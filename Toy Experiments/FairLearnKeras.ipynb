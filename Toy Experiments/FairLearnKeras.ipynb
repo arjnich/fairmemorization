{
 "cells": [
  {
   "cell_type": "code",
   "execution_count": 57,
   "metadata": {},
   "outputs": [],
   "source": [
    "import tensorflow as tf\n",
    "from sklearn.metrics import balanced_accuracy_score, roc_auc_score\n",
    "from sklearn.metrics import confusion_matrix\n",
    "import numpy as np\n",
    "import pandas as pd\n",
    "import matplotlib.pyplot as plt\n",
    "from sklearn.neural_network import MLPClassifier\n",
    "from sklearn.linear_model import LogisticRegression\n",
    "from sklearn.preprocessing import LabelEncoder\n",
    "from fairlearn.metrics import MetricFrame\n",
    "\n",
    "from fairlearn.metrics import (\n",
    "    count,\n",
    "    selection_rate,\n",
    "    equalized_odds_difference,\n",
    "    false_positive_rate,\n",
    "    false_negative_rate,\n",
    ")\n",
    "\n",
    "\n",
    "from fairlearn.reductions import ExponentiatedGradient, EqualizedOdds"
   ]
  },
  {
   "cell_type": "code",
   "execution_count": 88,
   "metadata": {},
   "outputs": [],
   "source": [
    "def compute_error_metric(metric_value, sample_size):\n",
    "    \"\"\"Compute standard error of a given metric based on the assumption of\n",
    "    normal distribution.\n",
    "\n",
    "    Parameters:\n",
    "    metric_value: Value of the metric\n",
    "    sample_size: Number of data points associated with the metric\n",
    "\n",
    "    Returns:\n",
    "    The standard error of the metric\n",
    "    \"\"\"\n",
    "    metric_value = metric_value / sample_size\n",
    "    return (\n",
    "        1.96\n",
    "        * np.sqrt(metric_value * (1.0 - metric_value))\n",
    "        / np.sqrt(sample_size)\n",
    "    )\n",
    "\n",
    "\n",
    "def false_positive_error(y_true, y_pred):\n",
    "    \"\"\"Compute the standard error for the false positive rate estimate.\"\"\"\n",
    "    tn, fp, fn, tp = confusion_matrix(y_true, y_pred).ravel()\n",
    "    return compute_error_metric(fp, tn + fp)\n",
    "\n",
    "\n",
    "def false_negative_error(y_true, y_pred):\n",
    "    \"\"\"Compute the standard error for the false negative rate estimate.\"\"\"\n",
    "    tn, fp, fn, tp = confusion_matrix(y_true, y_pred).ravel()\n",
    "    return compute_error_metric(fn, fn + tp)\n",
    "\n",
    "\n",
    "def balanced_accuracy_error(y_true, y_pred):\n",
    "    \"\"\"Compute the standard error for the balanced accuracy estimate.\"\"\"\n",
    "    fpr_error, fnr_error = false_positive_error(\n",
    "        y_true, y_pred\n",
    "    ), false_negative_error(y_true, y_pred)\n",
    "    return np.sqrt(fnr_error**2 + fpr_error**2) / 2"
   ]
  },
  {
   "cell_type": "code",
   "execution_count": 89,
   "metadata": {},
   "outputs": [],
   "source": [
    "fairness_metrics = {\n",
    "    \"count\": count,\n",
    "    \"balanced_accuracy\": balanced_accuracy_score,\n",
    "    \"balanced_acc_error\": balanced_accuracy_error,\n",
    "    \"selection_rate\": selection_rate,\n",
    "    \"false_positive_rate\": false_positive_rate,\n",
    "    \"false_positive_error\": false_positive_error,\n",
    "    \"false_negative_rate\": false_negative_rate,\n",
    "    \"false_negative_error\": false_negative_error,\n",
    "}"
   ]
  },
  {
   "cell_type": "code",
   "execution_count": 60,
   "metadata": {},
   "outputs": [],
   "source": [
    "X_train = np.array([[0., 0., 1.], [0., 1., 1.], [0., 0., 0.]])\n",
    "y_train = np.array([0, 1, 0])\n",
    "A_train = np.array([0, 1, 0])"
   ]
  },
  {
   "cell_type": "code",
   "execution_count": 61,
   "metadata": {},
   "outputs": [],
   "source": [
    "X_test = np.array([[0., 0., 1.], [0., 1., 1.], [0., 0., 0.]])\n",
    "y_test = np.array([0, 1, 0])\n",
    "A_test = np.array([0, 1, 0])"
   ]
  },
  {
   "cell_type": "markdown",
   "metadata": {},
   "source": [
    "### Regular Model"
   ]
  },
  {
   "cell_type": "code",
   "execution_count": 77,
   "metadata": {},
   "outputs": [],
   "source": [
    "model = tf.keras.Sequential([\n",
    "    tf.keras.layers.Dense(10, activation='relu'),\n",
    "    tf.keras.layers.Dense(1, activation='sigmoid')\n",
    "])"
   ]
  },
  {
   "cell_type": "code",
   "execution_count": 78,
   "metadata": {},
   "outputs": [],
   "source": [
    "model.compile(optimizer='adam', loss='binary_crossentropy')"
   ]
  },
  {
   "cell_type": "code",
   "execution_count": 81,
   "metadata": {},
   "outputs": [
    {
     "name": "stdout",
     "output_type": "stream",
     "text": [
      "Epoch 1/10\n",
      "1/1 [==============================] - 0s 3ms/step - loss: 0.7075\n",
      "Epoch 2/10\n",
      "1/1 [==============================] - 0s 2ms/step - loss: 0.7065\n",
      "Epoch 3/10\n",
      "1/1 [==============================] - 0s 2ms/step - loss: 0.7056\n",
      "Epoch 4/10\n",
      "1/1 [==============================] - 0s 2ms/step - loss: 0.7047\n",
      "Epoch 5/10\n",
      "1/1 [==============================] - 0s 2ms/step - loss: 0.7038\n",
      "Epoch 6/10\n",
      "1/1 [==============================] - 0s 2ms/step - loss: 0.7029\n",
      "Epoch 7/10\n",
      "1/1 [==============================] - 0s 2ms/step - loss: 0.7021\n",
      "Epoch 8/10\n",
      "1/1 [==============================] - 0s 1ms/step - loss: 0.7012\n",
      "Epoch 9/10\n",
      "1/1 [==============================] - 0s 2ms/step - loss: 0.7003\n",
      "Epoch 10/10\n",
      "1/1 [==============================] - 0s 1ms/step - loss: 0.6994\n"
     ]
    },
    {
     "data": {
      "text/plain": [
       "<keras.src.callbacks.History at 0x2e3a9b150>"
      ]
     },
     "execution_count": 81,
     "metadata": {},
     "output_type": "execute_result"
    }
   ],
   "source": [
    "model.fit(X_train, y_train, epochs = 10)"
   ]
  },
  {
   "cell_type": "code",
   "execution_count": 103,
   "metadata": {},
   "outputs": [
    {
     "name": "stdout",
     "output_type": "stream",
     "text": [
      "1/1 [==============================] - 0s 10ms/step\n"
     ]
    },
    {
     "data": {
      "text/plain": [
       "array([[1],\n",
       "       [1],\n",
       "       [0]])"
      ]
     },
     "execution_count": 103,
     "metadata": {},
     "output_type": "execute_result"
    }
   ],
   "source": [
    "Y_pred = (model.predict(X_test) >= 0.5).astype(int)\n",
    "Y_pred"
   ]
  },
  {
   "cell_type": "code",
   "execution_count": 104,
   "metadata": {},
   "outputs": [
    {
     "data": {
      "text/plain": [
       "0.75"
      ]
     },
     "execution_count": 104,
     "metadata": {},
     "output_type": "execute_result"
    }
   ],
   "source": [
    "## Print Balanced Accuracy\n",
    "balanced_accuracy_unmitigated = balanced_accuracy_score(y_test, Y_pred)\n",
    "balanced_accuracy_unmitigated"
   ]
  },
  {
   "cell_type": "code",
   "execution_count": 106,
   "metadata": {},
   "outputs": [
    {
     "data": {
      "text/plain": [
       "1.0"
      ]
     },
     "execution_count": 106,
     "metadata": {},
     "output_type": "execute_result"
    }
   ],
   "source": [
    "## Print Equalized Odds score\n",
    "equalized_odds_unmitigated = equalized_odds_difference(\n",
    "    y_test, Y_pred, sensitive_features=A_test\n",
    ")\n",
    "equalized_odds_unmitigated"
   ]
  },
  {
   "cell_type": "markdown",
   "metadata": {},
   "source": [
    "### Fair Model"
   ]
  },
  {
   "cell_type": "code",
   "execution_count": 62,
   "metadata": {},
   "outputs": [],
   "source": [
    "model = tf.keras.Sequential([\n",
    "    tf.keras.layers.Dense(10, activation='relu'),\n",
    "    tf.keras.layers.Dense(1, activation='sigmoid')\n",
    "])"
   ]
  },
  {
   "cell_type": "code",
   "execution_count": 63,
   "metadata": {},
   "outputs": [],
   "source": [
    "model.compile(optimizer='adam', loss='binary_crossentropy')"
   ]
  },
  {
   "cell_type": "code",
   "execution_count": 64,
   "metadata": {},
   "outputs": [],
   "source": [
    "def get_expgrad_models_per_epsilon(\n",
    "    estimator, epsilon, X, y, A\n",
    "):\n",
    "    \"\"\"Instantiate and train an ExponentiatedGradient model on the\n",
    "    balanced training dataset.\n",
    "\n",
    "    Parameters\n",
    "    ----------\n",
    "    Estimator: Base estimator to contains a fit and predict function.\n",
    "    Epsilon: Float representing maximum difference bound for the fairness Moment constraint\n",
    "\n",
    "    Returns\n",
    "    -------\n",
    "    Predictors\n",
    "        List of inner model predictors learned by the ExponentiatedGradient\n",
    "        model during the training process.\n",
    "\n",
    "    \"\"\"\n",
    "    exp_grad_est = ExponentiatedGradient(\n",
    "        estimator=estimator,\n",
    "        sample_weight_name='sample_weight',\n",
    "        constraints=EqualizedOdds(difference_bound=epsilon),\n",
    "    )\n",
    "    # Is this an issue - Re-runs\n",
    "    exp_grad_est.fit(X, y, sensitive_features=A)\n",
    "    predictors = exp_grad_est.predictors_\n",
    "    return predictors"
   ]
  },
  {
   "cell_type": "code",
   "execution_count": 65,
   "metadata": {},
   "outputs": [],
   "source": [
    "epsilons = [0.01, 0.02]\n",
    "estimator=model"
   ]
  },
  {
   "cell_type": "code",
   "execution_count": 66,
   "metadata": {},
   "outputs": [
    {
     "name": "stdout",
     "output_type": "stream",
     "text": [
      "1/1 [==============================] - 0s 119ms/step - loss: 0.7271\n",
      "1/1 [==============================] - 0s 18ms/step\n",
      "1/1 [==============================] - 0s 8ms/step\n",
      "1/1 [==============================] - 0s 8ms/step\n",
      "1/1 [==============================] - 0s 115ms/step - loss: 0.7035\n",
      "1/1 [==============================] - 0s 17ms/step\n",
      "1/1 [==============================] - 0s 8ms/step\n",
      "1/1 [==============================] - 0s 109ms/step - loss: 0.6622\n",
      "1/1 [==============================] - 0s 17ms/step\n",
      "1/1 [==============================] - 0s 8ms/step\n",
      "1/1 [==============================] - 0s 113ms/step - loss: 0.7539\n",
      "1/1 [==============================] - 0s 17ms/step\n",
      "1/1 [==============================] - 0s 8ms/step\n",
      "1/1 [==============================] - 0s 113ms/step - loss: 0.7596\n",
      "1/1 [==============================] - 0s 19ms/step\n",
      "1/1 [==============================] - 0s 8ms/step\n",
      "1/1 [==============================] - 0s 114ms/step - loss: 0.7642\n",
      "1/1 [==============================] - 0s 19ms/step\n",
      "1/1 [==============================] - 0s 8ms/step\n",
      "1/1 [==============================] - 0s 115ms/step - loss: 0.6189\n",
      "1/1 [==============================] - 0s 17ms/step\n",
      "1/1 [==============================] - 0s 8ms/step\n",
      "1/1 [==============================] - 0s 110ms/step - loss: 0.8965\n",
      "1/1 [==============================] - 0s 18ms/step\n",
      "1/1 [==============================] - 0s 7ms/step\n",
      "1/1 [==============================] - 0s 110ms/step - loss: 0.6481\n",
      "1/1 [==============================] - 0s 17ms/step\n",
      "1/1 [==============================] - 0s 8ms/step\n",
      "1/1 [==============================] - 0s 113ms/step - loss: 0.6874\n",
      "1/1 [==============================] - 0s 17ms/step\n",
      "1/1 [==============================] - 0s 9ms/step\n",
      "1/1 [==============================] - 0s 111ms/step - loss: 0.7848\n",
      "1/1 [==============================] - 0s 17ms/step\n",
      "1/1 [==============================] - 0s 7ms/step\n",
      "1/1 [==============================] - 0s 113ms/step - loss: 0.7022\n",
      "1/1 [==============================] - 0s 17ms/step\n",
      "1/1 [==============================] - 0s 9ms/step\n",
      "1/1 [==============================] - 0s 112ms/step - loss: 0.6452\n",
      "1/1 [==============================] - 0s 17ms/step\n",
      "1/1 [==============================] - 0s 8ms/step\n",
      "1/1 [==============================] - 0s 108ms/step - loss: 0.6467\n",
      "1/1 [==============================] - 0s 18ms/step\n",
      "1/1 [==============================] - 0s 8ms/step\n",
      "1/1 [==============================] - 0s 109ms/step - loss: 0.6746\n",
      "1/1 [==============================] - 0s 16ms/step\n",
      "1/1 [==============================] - 0s 8ms/step\n",
      "1/1 [==============================] - 0s 111ms/step - loss: 0.7605\n",
      "1/1 [==============================] - 0s 17ms/step\n",
      "1/1 [==============================] - 0s 9ms/step\n",
      "1/1 [==============================] - 0s 112ms/step - loss: 0.6786\n",
      "1/1 [==============================] - 0s 17ms/step\n",
      "1/1 [==============================] - 0s 7ms/step\n",
      "1/1 [==============================] - 0s 112ms/step - loss: 0.6940\n",
      "1/1 [==============================] - 0s 18ms/step\n",
      "1/1 [==============================] - 0s 8ms/step\n",
      "1/1 [==============================] - 0s 112ms/step - loss: 0.7099\n",
      "1/1 [==============================] - 0s 16ms/step\n",
      "1/1 [==============================] - 0s 9ms/step\n",
      "1/1 [==============================] - 0s 112ms/step - loss: 0.9005\n",
      "1/1 [==============================] - 0s 16ms/step\n",
      "1/1 [==============================] - 0s 7ms/step\n",
      "1/1 [==============================] - 0s 110ms/step - loss: 0.8006\n",
      "1/1 [==============================] - 0s 18ms/step\n",
      "1/1 [==============================] - 0s 8ms/step\n",
      "1/1 [==============================] - 0s 108ms/step - loss: 0.8613\n",
      "1/1 [==============================] - 0s 16ms/step\n",
      "1/1 [==============================] - 0s 8ms/step\n",
      "1/1 [==============================] - 0s 108ms/step - loss: 0.7484\n",
      "1/1 [==============================] - 0s 16ms/step\n",
      "1/1 [==============================] - 0s 8ms/step\n",
      "1/1 [==============================] - 0s 110ms/step - loss: 0.7027\n",
      "1/1 [==============================] - 0s 17ms/step\n",
      "1/1 [==============================] - 0s 8ms/step\n",
      "1/1 [==============================] - 0s 7ms/step\n",
      "1/1 [==============================] - 0s 114ms/step - loss: 0.7282\n",
      "1/1 [==============================] - 0s 19ms/step\n",
      "1/1 [==============================] - 0s 9ms/step\n",
      "1/1 [==============================] - 0s 114ms/step - loss: 0.6395\n",
      "1/1 [==============================] - 0s 17ms/step\n",
      "1/1 [==============================] - 0s 8ms/step\n",
      "1/1 [==============================] - 0s 112ms/step - loss: 0.7465\n",
      "1/1 [==============================] - 0s 18ms/step\n",
      "1/1 [==============================] - 0s 8ms/step\n",
      "1/1 [==============================] - 0s 111ms/step - loss: 0.8049\n",
      "1/1 [==============================] - 0s 17ms/step\n",
      "1/1 [==============================] - 0s 8ms/step\n",
      "1/1 [==============================] - 0s 113ms/step - loss: 0.8984\n",
      "1/1 [==============================] - 0s 18ms/step\n",
      "1/1 [==============================] - 0s 8ms/step\n",
      "1/1 [==============================] - 0s 113ms/step - loss: 0.7534\n",
      "1/1 [==============================] - 0s 17ms/step\n",
      "1/1 [==============================] - 0s 8ms/step\n",
      "1/1 [==============================] - 0s 114ms/step - loss: 0.6335\n",
      "1/1 [==============================] - 0s 18ms/step\n",
      "1/1 [==============================] - 0s 8ms/step\n",
      "1/1 [==============================] - 0s 116ms/step - loss: 0.7144\n",
      "1/1 [==============================] - 0s 18ms/step\n",
      "1/1 [==============================] - 0s 8ms/step\n",
      "1/1 [==============================] - 0s 115ms/step - loss: 0.7667\n",
      "1/1 [==============================] - 0s 17ms/step\n",
      "1/1 [==============================] - 0s 7ms/step\n",
      "1/1 [==============================] - 0s 113ms/step - loss: 0.6989\n",
      "1/1 [==============================] - 0s 16ms/step\n",
      "1/1 [==============================] - 0s 8ms/step\n",
      "1/1 [==============================] - 0s 112ms/step - loss: 0.7937\n",
      "1/1 [==============================] - 0s 17ms/step\n",
      "1/1 [==============================] - 0s 9ms/step\n",
      "1/1 [==============================] - 0s 114ms/step - loss: 0.7148\n",
      "1/1 [==============================] - 0s 17ms/step\n",
      "1/1 [==============================] - 0s 8ms/step\n",
      "1/1 [==============================] - 0s 116ms/step - loss: 0.6850\n",
      "1/1 [==============================] - 0s 17ms/step\n",
      "1/1 [==============================] - 0s 7ms/step\n",
      "1/1 [==============================] - 0s 113ms/step - loss: 0.6685\n",
      "1/1 [==============================] - 0s 17ms/step\n",
      "1/1 [==============================] - 0s 8ms/step\n",
      "1/1 [==============================] - 0s 113ms/step - loss: 0.6637\n",
      "1/1 [==============================] - 0s 18ms/step\n",
      "1/1 [==============================] - 0s 8ms/step\n",
      "1/1 [==============================] - 0s 121ms/step - loss: 0.7578\n",
      "1/1 [==============================] - 0s 18ms/step\n",
      "1/1 [==============================] - 0s 9ms/step\n",
      "1/1 [==============================] - 0s 114ms/step - loss: 0.6956\n",
      "1/1 [==============================] - 0s 17ms/step\n",
      "1/1 [==============================] - 0s 8ms/step\n",
      "1/1 [==============================] - 0s 110ms/step - loss: 0.6401\n",
      "1/1 [==============================] - 0s 17ms/step\n",
      "1/1 [==============================] - 0s 8ms/step\n",
      "1/1 [==============================] - 0s 112ms/step - loss: 0.7487\n",
      "1/1 [==============================] - 0s 17ms/step\n",
      "1/1 [==============================] - 0s 8ms/step\n",
      "1/1 [==============================] - 0s 115ms/step - loss: 1.0126\n",
      "1/1 [==============================] - 0s 17ms/step\n",
      "1/1 [==============================] - 0s 8ms/step\n",
      "1/1 [==============================] - 0s 111ms/step - loss: 0.6987\n",
      "1/1 [==============================] - 0s 20ms/step\n",
      "1/1 [==============================] - 0s 8ms/step\n",
      "1/1 [==============================] - 0s 111ms/step - loss: 0.7877\n",
      "1/1 [==============================] - 0s 17ms/step\n",
      "1/1 [==============================] - 0s 7ms/step\n",
      "1/1 [==============================] - 0s 113ms/step - loss: 0.7569\n",
      "1/1 [==============================] - 0s 17ms/step\n",
      "1/1 [==============================] - 0s 8ms/step\n",
      "1/1 [==============================] - 0s 111ms/step - loss: 0.7580\n",
      "1/1 [==============================] - 0s 17ms/step\n",
      "1/1 [==============================] - 0s 8ms/step\n",
      "1/1 [==============================] - 0s 110ms/step - loss: 0.6838\n",
      "1/1 [==============================] - 0s 17ms/step\n",
      "1/1 [==============================] - 0s 8ms/step\n",
      "1/1 [==============================] - 0s 109ms/step - loss: 0.7468\n",
      "1/1 [==============================] - 0s 17ms/step\n",
      "1/1 [==============================] - 0s 7ms/step\n",
      "1/1 [==============================] - 0s 112ms/step - loss: 0.8262\n",
      "1/1 [==============================] - 0s 16ms/step\n",
      "1/1 [==============================] - 0s 8ms/step\n",
      "1/1 [==============================] - 0s 108ms/step - loss: 0.7554\n",
      "1/1 [==============================] - 0s 16ms/step\n",
      "1/1 [==============================] - 0s 8ms/step\n",
      "1/1 [==============================] - 0s 109ms/step - loss: 0.6824\n",
      "1/1 [==============================] - 0s 17ms/step\n",
      "1/1 [==============================] - 0s 7ms/step\n",
      "1/1 [==============================] - 0s 107ms/step - loss: 0.6609\n",
      "1/1 [==============================] - 0s 17ms/step\n",
      "1/1 [==============================] - 0s 8ms/step\n",
      "1/1 [==============================] - 0s 107ms/step - loss: 0.7496\n",
      "1/1 [==============================] - 0s 17ms/step\n",
      "1/1 [==============================] - 0s 8ms/step\n"
     ]
    }
   ],
   "source": [
    "### Needed modification to FairLearn Source Code\n",
    "all_models = {}\n",
    "for eps in epsilons:\n",
    "    all_models[eps] = get_expgrad_models_per_epsilon(\n",
    "        estimator=estimator,\n",
    "        epsilon=eps,\n",
    "        X=X_train,\n",
    "        y=y_train,\n",
    "        A=A_train,\n",
    "    )"
   ]
  },
  {
   "cell_type": "code",
   "execution_count": 67,
   "metadata": {},
   "outputs": [
    {
     "name": "stdout",
     "output_type": "stream",
     "text": [
      "For epsilon 0.01, ExponentiatedGradient learned 5 inner models\n",
      "For epsilon 0.02, ExponentiatedGradient learned 3 inner models\n"
     ]
    }
   ],
   "source": [
    "for epsilon, models in all_models.items():\n",
    "    print(\n",
    "        f\"For epsilon {epsilon}, ExponentiatedGradient learned {len(models)} inner models\"\n",
    "    )"
   ]
  },
  {
   "cell_type": "markdown",
   "metadata": {},
   "source": [
    "### Inner Model Analysis"
   ]
  },
  {
   "cell_type": "code",
   "execution_count": 68,
   "metadata": {},
   "outputs": [],
   "source": [
    "def is_pareto_efficient(points):\n",
    "    \"\"\"Filter a NumPy Matrix to remove rows that are strictly dominated by\n",
    "    another row in the matrix. Strictly dominated means the all the row values\n",
    "    are greater than the values of another row.\n",
    "\n",
    "    Parameters\n",
    "    ----------\n",
    "    Points: NumPy array (NxM) of model metrics.\n",
    "        Assumption that smaller values for metrics are preferred.\n",
    "\n",
    "    Returns\n",
    "    -------\n",
    "    Boolean Array\n",
    "        Nx1 boolean mask representing the non-dominated indices.\n",
    "    \"\"\"\n",
    "    n, m = points.shape\n",
    "    is_efficient = np.ones(n, dtype=bool)\n",
    "    for i, c in enumerate(points):\n",
    "        if is_efficient[i]:\n",
    "            is_efficient[is_efficient] = np.any(\n",
    "                points[is_efficient] < c, axis=1\n",
    "            )\n",
    "            is_efficient[i] = True\n",
    "    return is_efficient"
   ]
  },
  {
   "cell_type": "code",
   "execution_count": 69,
   "metadata": {},
   "outputs": [],
   "source": [
    "def filter_dominated_rows(points):\n",
    "    \"\"\"Remove rows from a DataFrame that are monotonically dominated by\n",
    "    another row in the DataFrame.\n",
    "\n",
    "    Parameters\n",
    "    ----------\n",
    "    Points: DataFrame where each row represents the summarized performance\n",
    "            (balanced accuracy, fairness metric) of an inner model.\n",
    "\n",
    "    Returns\n",
    "    -------\n",
    "    pareto mask: Boolean mask representing indices of input DataFrame that are not monotonically dominated.\n",
    "    masked_DataFrame: DataFrame with dominated rows filtered out.\n",
    "\n",
    "    \"\"\"\n",
    "    pareto_mask = is_pareto_efficient(points.to_numpy())\n",
    "    return pareto_mask, points.loc[pareto_mask, :]\n"
   ]
  },
  {
   "cell_type": "code",
   "execution_count": 45,
   "metadata": {},
   "outputs": [],
   "source": [
    "def aggregate_predictor_performances(\n",
    "    predictors, metric, X_test, Y_test, A_test=None\n",
    "):\n",
    "    \"\"\"Compute the specified metric for all classifiers in predictors.\n",
    "    If no sensitive features are present, the metric is computed without\n",
    "    disaggregation.\n",
    "\n",
    "    Parameters\n",
    "    ----------\n",
    "    predictors: A set of classifiers to generate predictions from.\n",
    "    metric: The metric (callable) to compute for each classifier in predictor\n",
    "    X_test: The data features of the testing data set\n",
    "    Y_test: The target labels of the teting data set\n",
    "    A_test: The sensitive feature of the testing data set.\n",
    "\n",
    "    Returns\n",
    "    -------\n",
    "    List of performance scores for each classifier in predictors, for the\n",
    "    given metric.\n",
    "    \"\"\"\n",
    "    all_predictions = [predictor.predict(X_test) > 0.5 for predictor in predictors]\n",
    "    if A_test is not None:\n",
    "        print(all_predictions)\n",
    "        print(Y_test)\n",
    "        return [\n",
    "            metric(Y_test, Y_sweep, sensitive_features=A_test)\n",
    "            for Y_sweep in all_predictions\n",
    "        ]\n",
    "    else:\n",
    "        return [metric(Y_test, Y_sweep) for Y_sweep in all_predictions]"
   ]
  },
  {
   "cell_type": "code",
   "execution_count": 70,
   "metadata": {},
   "outputs": [],
   "source": [
    "def model_performance_sweep(models_dict, X_test, y_test, A_test):\n",
    "    \"\"\"Compute the equalized_odds_difference and balanced_error_rate for a\n",
    "    given list of inner models learned by the ExponentiatedGradient algorithm.\n",
    "    Return a DataFrame containing the epsilon level of the model, the index\n",
    "    of the model, the equalized_odds_difference score and the balanced_error\n",
    "    for the model.\n",
    "\n",
    "    Parameters\n",
    "    ----------\n",
    "    models_dict: Dictionary mapping model ids to a model.\n",
    "    X_test: The data features of the testing data set\n",
    "    y_test: The target labels of the testing data set\n",
    "    A_test: The sensitive feature of the testing data set.\n",
    "\n",
    "    Returns\n",
    "    -------\n",
    "    DataFrame where each row represents a model (epsilon, index) and its\n",
    "    performance metrics\n",
    "    \"\"\"\n",
    "    performances = []\n",
    "    for (eps, models) in models_dict.items():\n",
    "        eq_odds_difference = aggregate_predictor_performances(\n",
    "            models, equalized_odds_difference, X_test, y_test, A_test\n",
    "        )\n",
    "        bal_acc_score = aggregate_predictor_performances(\n",
    "            models, balanced_accuracy_score, X_test, y_test\n",
    "        )\n",
    "        for (i, score) in enumerate(eq_odds_difference):\n",
    "            performances.append((eps, i, score, (1 - bal_acc_score[i])))\n",
    "    performances_df = pd.DataFrame.from_records(\n",
    "        performances,\n",
    "        columns=[\"epsilon\", \"index\", \"equalized_odds\", \"balanced_error\"],\n",
    "    )\n",
    "    return performances_df"
   ]
  },
  {
   "cell_type": "code",
   "execution_count": 71,
   "metadata": {},
   "outputs": [
    {
     "name": "stdout",
     "output_type": "stream",
     "text": [
      "1/1 [==============================] - 0s 10ms/step\n",
      "1/1 [==============================] - 0s 10ms/step\n",
      "1/1 [==============================] - 0s 8ms/step\n",
      "1/1 [==============================] - 0s 8ms/step\n",
      "1/1 [==============================] - 0s 8ms/step\n",
      "[array([[ True],\n",
      "       [False],\n",
      "       [False]]), array([[ True],\n",
      "       [ True],\n",
      "       [False]]), array([[False],\n",
      "       [False],\n",
      "       [ True]]), array([[False],\n",
      "       [ True],\n",
      "       [False]]), array([[ True],\n",
      "       [ True],\n",
      "       [False]])]\n",
      "[0 1 0]\n",
      "1/1 [==============================] - 0s 8ms/step\n",
      "1/1 [==============================] - 0s 8ms/step\n",
      "1/1 [==============================] - 0s 8ms/step\n",
      "1/1 [==============================] - 0s 8ms/step\n",
      "1/1 [==============================] - 0s 8ms/step\n",
      "1/1 [==============================] - 0s 8ms/step\n",
      "1/1 [==============================] - 0s 8ms/step\n",
      "1/1 [==============================] - 0s 8ms/step\n",
      "[array([[ True],\n",
      "       [ True],\n",
      "       [False]]), array([[False],\n",
      "       [ True],\n",
      "       [False]]), array([[ True],\n",
      "       [ True],\n",
      "       [False]])]\n",
      "[0 1 0]\n",
      "1/1 [==============================] - 0s 8ms/step\n",
      "1/1 [==============================] - 0s 8ms/step\n",
      "1/1 [==============================] - 0s 7ms/step\n"
     ]
    }
   ],
   "source": [
    "performance_df = model_performance_sweep(all_models, X_test, y_test, A_test)"
   ]
  },
  {
   "cell_type": "code",
   "execution_count": 72,
   "metadata": {},
   "outputs": [],
   "source": [
    "performance_subset = performance_df.loc[\n",
    "    :, [\"equalized_odds\", \"balanced_error\"]\n",
    "]"
   ]
  },
  {
   "cell_type": "code",
   "execution_count": 73,
   "metadata": {},
   "outputs": [],
   "source": [
    "mask, pareto_subset = filter_dominated_rows(performance_subset)\n",
    "\n",
    "performance_df_masked = performance_df.loc[mask, :]"
   ]
  },
  {
   "cell_type": "code",
   "execution_count": 74,
   "metadata": {},
   "outputs": [
    {
     "data": {
      "text/plain": [
       "<matplotlib.legend.Legend at 0x2e40d3610>"
      ]
     },
     "execution_count": 74,
     "metadata": {},
     "output_type": "execute_result"
    },
    {
     "data": {
      "image/png": "[encoded data removed]",
      "text/plain": [
       "<Figure size 640x480 with 1 Axes>"
      ]
     },
     "metadata": {},
     "output_type": "display_data"
    }
   ],
   "source": [
    "for index, row in performance_df_masked.iterrows():\n",
    "    bal_error, eq_odds_diff = row[\"balanced_error\"], row[\"equalized_odds\"]\n",
    "    epsilon_, index_ = row[\"epsilon\"], row[\"index\"]\n",
    "    plt.scatter(\n",
    "        bal_error, eq_odds_diff, color=\"green\", label=\"ExponentiatedGradient\"\n",
    "    )\n",
    "    plt.text(\n",
    "        bal_error + 0.001,\n",
    "        eq_odds_diff + 0.0001,\n",
    "        f\"Eps: {epsilon_}, Idx: {int(index_)}\",\n",
    "        fontsize=10,\n",
    "    )\n",
    "#plt.scatter(\n",
    "#    1.0 - balanced_accuracy_unmitigated,\n",
    "#    equalized_odds_unmitigated,\n",
    "#    label=\"UnmitigatedModel\",\n",
    "#)\n",
    "#plt.scatter(\n",
    "#    1.0 - bal_acc_postprocess, eq_odds_postprocess, label=\"PostProcess\"\n",
    "#)\n",
    "plt.xlabel(\"Weighted Error Rate\")\n",
    "plt.ylabel(\"Equalized Odds\")\n",
    "plt.legend(bbox_to_anchor=(1.85, 1))"
   ]
  },
  {
   "cell_type": "markdown",
   "metadata": {},
   "source": [
    "### Select Best Model"
   ]
  },
  {
   "cell_type": "code",
   "execution_count": 75,
   "metadata": {},
   "outputs": [],
   "source": [
    "def filter_models_by_unmitigiated_score(\n",
    "    all_models,\n",
    "    models_frames,\n",
    "    unmitigated_score,\n",
    "    performance_metric=\"balanced_error\",\n",
    "    fairness_metric=\"equalized_odds\",\n",
    "    threshold=0.01,\n",
    "):\n",
    "    \"\"\"Filter out models whose performance score is above the desired\n",
    "    threshold. Out of the remaining model, return the models with the best\n",
    "    score on the fairness metric.\n",
    "\n",
    "    Parameters\n",
    "    ----------\n",
    "    all_models: Dictionary (Epsilon, Index) mapping (epilson, index number) pairs to a Model object\n",
    "    models_frames: A DataFrame representing each model's performance and fairness score.\n",
    "    unmitigated_score: The performance score of the unmitigated model.\n",
    "    performance_metric: The model performance metric to threshold on.\n",
    "    fairness_metric: The fairness metric to optimize for\n",
    "    threshold: The threshold padding added to the :code:`unmitigated_score`.\n",
    "\n",
    "    \"\"\"\n",
    "    # Create threshold based on balanced_error of unmitigated model and filter\n",
    "    models_filtered = models_frames.query(\n",
    "        f\"{performance_metric} <= {unmitigated_score + threshold}\"\n",
    "    )\n",
    "    best_row = models_filtered.sort_values(by=[fairness_metric]).iloc[0]\n",
    "    # Choose the model with smallest equalized_odds difference\n",
    "    epsilon, index = best_row[[\"epsilon\", \"index\"]]\n",
    "    return {\n",
    "        \"model\": all_models[epsilon][index],\n",
    "        \"epsilon\": epsilon,\n",
    "        \"index\": index,\n",
    "    }"
   ]
  },
  {
   "cell_type": "code",
   "execution_count": 107,
   "metadata": {},
   "outputs": [
    {
     "name": "stdout",
     "output_type": "stream",
     "text": [
      "Epsilon for best model: 0.01, Index number: 1.0\n"
     ]
    }
   ],
   "source": [
    "best_model = filter_models_by_unmitigiated_score(\n",
    "    all_models,\n",
    "    models_frames=performance_df,\n",
    "    unmitigated_score=(1.0 - balanced_accuracy_unmitigated),\n",
    "    threshold=0.015,\n",
    ")\n",
    "\n",
    "print(\n",
    "    f\"Epsilon for best model: {best_model.get('epsilon')}, Index number: {best_model.get('index')}\"\n",
    ")\n",
    "inprocess_model = best_model.get(\"model\")"
   ]
  },
  {
   "cell_type": "code",
   "execution_count": 109,
   "metadata": {},
   "outputs": [
    {
     "name": "stdout",
     "output_type": "stream",
     "text": [
      "1/1 [==============================] - 0s 11ms/step\n"
     ]
    }
   ],
   "source": [
    "y_pred_inprocess = (inprocess_model.predict(X_test) > 0.5)\n",
    "\n",
    "bal_acc_inprocess = balanced_accuracy_score(y_test, y_pred_inprocess)\n",
    "eq_odds_inprocess = equalized_odds_difference(\n",
    "    y_test, y_pred_inprocess, sensitive_features=A_test\n",
    ")"
   ]
  },
  {
   "cell_type": "code",
   "execution_count": 111,
   "metadata": {},
   "outputs": [
    {
     "data": {
      "text/plain": [
       "0.75"
      ]
     },
     "execution_count": 111,
     "metadata": {},
     "output_type": "execute_result"
    }
   ],
   "source": [
    "## Print Balanced Accuracy\n",
    "balanced_accuracy_inprocess = balanced_accuracy_score(y_test, y_pred_inprocess)\n",
    "balanced_accuracy_inprocess"
   ]
  },
  {
   "cell_type": "code",
   "execution_count": null,
   "metadata": {},
   "outputs": [],
   "source": [
    "## Print Equalized Odds score\n",
    "equalized_odds_inprocess = equalized_odds_difference(\n",
    "    y_test, y_pred_inprocess, sensitive_features=A_test\n",
    ")\n",
    "equalized_odds_inprocess"
   ]
  }
 ],
 "metadata": {
  "kernelspec": {
   "display_name": "sandbox",
   "language": "python",
   "name": "python3"
  },
  "language_info": {
   "codemirror_mode": {
    "name": "ipython",
    "version": 3
   },
   "file_extension": ".py",
   "mimetype": "text/x-python",
   "name": "python",
   "nbconvert_exporter": "python",
   "pygments_lexer": "ipython3",
   "version": "3.11.4"
  }
 },
 "nbformat": 4,
 "nbformat_minor": 2
}
